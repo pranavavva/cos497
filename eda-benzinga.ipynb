{
 "cells": [
  {
   "cell_type": "code",
   "execution_count": 71,
   "metadata": {},
   "outputs": [
    {
     "name": "stderr",
     "output_type": "stream",
     "text": [
      "[nltk_data] Downloading package vader_lexicon to\n",
      "[nltk_data]     /Users/pranav/nltk_data...\n",
      "[nltk_data]   Package vader_lexicon is already up-to-date!\n"
     ]
    }
   ],
   "source": [
    "import pandas as pd\n",
    "import matplotlib.pyplot as plt\n",
    "import seaborn as sns\n",
    "import nltk\n",
    "import pickle as pkl\n",
    "from nltk.sentiment.vader import SentimentIntensityAnalyzer\n",
    "nltk.download('vader_lexicon')\n",
    "\n",
    "%matplotlib inline\n",
    "sns.set_theme()"
   ]
  },
  {
   "cell_type": "code",
   "execution_count": 20,
   "metadata": {},
   "outputs": [],
   "source": [
    "df = pd.read_csv(\"data/analyst_ratings_processed.csv\").drop(\"Unnamed: 0\", axis=1)\n",
    "df[\"date\"] = pd.to_datetime(df[\"date\"], utc=True)"
   ]
  },
  {
   "cell_type": "code",
   "execution_count": 47,
   "metadata": {},
   "outputs": [
    {
     "data": {
      "text/html": [
       "<div>\n",
       "<style scoped>\n",
       "    .dataframe tbody tr th:only-of-type {\n",
       "        vertical-align: middle;\n",
       "    }\n",
       "\n",
       "    .dataframe tbody tr th {\n",
       "        vertical-align: top;\n",
       "    }\n",
       "\n",
       "    .dataframe thead th {\n",
       "        text-align: right;\n",
       "    }\n",
       "</style>\n",
       "<table border=\"1\" class=\"dataframe\">\n",
       "  <thead>\n",
       "    <tr style=\"text-align: right;\">\n",
       "      <th></th>\n",
       "      <th>title</th>\n",
       "      <th>date</th>\n",
       "      <th>stock</th>\n",
       "      <th>sentiment</th>\n",
       "    </tr>\n",
       "  </thead>\n",
       "  <tbody>\n",
       "    <tr>\n",
       "      <th>0</th>\n",
       "      <td>Stocks That Hit 52-Week Highs On Friday</td>\n",
       "      <td>2020-06-05 14:30:00+00:00</td>\n",
       "      <td>A</td>\n",
       "      <td>0.0000</td>\n",
       "    </tr>\n",
       "    <tr>\n",
       "      <th>1</th>\n",
       "      <td>Stocks That Hit 52-Week Highs On Wednesday</td>\n",
       "      <td>2020-06-03 14:45:00+00:00</td>\n",
       "      <td>A</td>\n",
       "      <td>0.0000</td>\n",
       "    </tr>\n",
       "    <tr>\n",
       "      <th>2</th>\n",
       "      <td>71 Biggest Movers From Friday</td>\n",
       "      <td>2020-05-26 08:30:00+00:00</td>\n",
       "      <td>A</td>\n",
       "      <td>0.0000</td>\n",
       "    </tr>\n",
       "    <tr>\n",
       "      <th>3</th>\n",
       "      <td>46 Stocks Moving In Friday's Mid-Day Session</td>\n",
       "      <td>2020-05-22 16:45:00+00:00</td>\n",
       "      <td>A</td>\n",
       "      <td>0.0000</td>\n",
       "    </tr>\n",
       "    <tr>\n",
       "      <th>4</th>\n",
       "      <td>B of A Securities Maintains Neutral on Agilent...</td>\n",
       "      <td>2020-05-22 15:38:00+00:00</td>\n",
       "      <td>A</td>\n",
       "      <td>0.2960</td>\n",
       "    </tr>\n",
       "    <tr>\n",
       "      <th>...</th>\n",
       "      <td>...</td>\n",
       "      <td>...</td>\n",
       "      <td>...</td>\n",
       "      <td>...</td>\n",
       "    </tr>\n",
       "    <tr>\n",
       "      <th>1399175</th>\n",
       "      <td>Top Narrow Based Indexes For August 29</td>\n",
       "      <td>2011-08-29 14:41:00+00:00</td>\n",
       "      <td>ZX</td>\n",
       "      <td>0.2023</td>\n",
       "    </tr>\n",
       "    <tr>\n",
       "      <th>1399176</th>\n",
       "      <td>Recap: Wednesday's Top Percentage Gainers and ...</td>\n",
       "      <td>2011-06-22 20:44:00+00:00</td>\n",
       "      <td>ZX</td>\n",
       "      <td>-0.3818</td>\n",
       "    </tr>\n",
       "    <tr>\n",
       "      <th>1399177</th>\n",
       "      <td>UPDATE: Oppenheimer Color on China Zenix Auto ...</td>\n",
       "      <td>2011-06-21 12:26:00+00:00</td>\n",
       "      <td>ZX</td>\n",
       "      <td>0.0000</td>\n",
       "    </tr>\n",
       "    <tr>\n",
       "      <th>1399178</th>\n",
       "      <td>Oppenheimer Initiates China Zenix At Outperfor...</td>\n",
       "      <td>2011-06-21 09:59:00+00:00</td>\n",
       "      <td>ZX</td>\n",
       "      <td>0.0000</td>\n",
       "    </tr>\n",
       "    <tr>\n",
       "      <th>1399179</th>\n",
       "      <td>China Zenix Auto International Opens For Tradi...</td>\n",
       "      <td>2011-05-12 13:36:00+00:00</td>\n",
       "      <td>ZX</td>\n",
       "      <td>0.0000</td>\n",
       "    </tr>\n",
       "  </tbody>\n",
       "</table>\n",
       "<p>1399180 rows × 4 columns</p>\n",
       "</div>"
      ],
      "text/plain": [
       "                                                     title  \\\n",
       "0                  Stocks That Hit 52-Week Highs On Friday   \n",
       "1               Stocks That Hit 52-Week Highs On Wednesday   \n",
       "2                            71 Biggest Movers From Friday   \n",
       "3             46 Stocks Moving In Friday's Mid-Day Session   \n",
       "4        B of A Securities Maintains Neutral on Agilent...   \n",
       "...                                                    ...   \n",
       "1399175             Top Narrow Based Indexes For August 29   \n",
       "1399176  Recap: Wednesday's Top Percentage Gainers and ...   \n",
       "1399177  UPDATE: Oppenheimer Color on China Zenix Auto ...   \n",
       "1399178  Oppenheimer Initiates China Zenix At Outperfor...   \n",
       "1399179  China Zenix Auto International Opens For Tradi...   \n",
       "\n",
       "                             date stock  sentiment  \n",
       "0       2020-06-05 14:30:00+00:00     A     0.0000  \n",
       "1       2020-06-03 14:45:00+00:00     A     0.0000  \n",
       "2       2020-05-26 08:30:00+00:00     A     0.0000  \n",
       "3       2020-05-22 16:45:00+00:00     A     0.0000  \n",
       "4       2020-05-22 15:38:00+00:00     A     0.2960  \n",
       "...                           ...   ...        ...  \n",
       "1399175 2011-08-29 14:41:00+00:00    ZX     0.2023  \n",
       "1399176 2011-06-22 20:44:00+00:00    ZX    -0.3818  \n",
       "1399177 2011-06-21 12:26:00+00:00    ZX     0.0000  \n",
       "1399178 2011-06-21 09:59:00+00:00    ZX     0.0000  \n",
       "1399179 2011-05-12 13:36:00+00:00    ZX     0.0000  \n",
       "\n",
       "[1399180 rows x 4 columns]"
      ]
     },
     "execution_count": 47,
     "metadata": {},
     "output_type": "execute_result"
    }
   ],
   "source": [
    "df"
   ]
  },
  {
   "cell_type": "code",
   "execution_count": 23,
   "metadata": {},
   "outputs": [],
   "source": [
    "sid = SentimentIntensityAnalyzer()"
   ]
  },
  {
   "cell_type": "code",
   "execution_count": 32,
   "metadata": {},
   "outputs": [],
   "source": [
    "df[\"sentiment\"] = df.apply(lambda x: sid.polarity_scores(x[\"title\"])[\"compound\"], axis=1)"
   ]
  },
  {
   "cell_type": "code",
   "execution_count": 45,
   "metadata": {},
   "outputs": [
    {
     "data": {
      "text/plain": [
       "<Axes: xlabel='sentiment', ylabel='Count'>"
      ]
     },
     "execution_count": 45,
     "metadata": {},
     "output_type": "execute_result"
    },
    {
     "data": {
      "image/png": "[encoded data removed]",
      "text/plain": [
       "<Figure size 640x480 with 1 Axes>"
      ]
     },
     "metadata": {},
     "output_type": "display_data"
    }
   ],
   "source": [
    "sns.histplot(data=df, x=\"sentiment\", bins=7, kde=True)"
   ]
  },
  {
   "cell_type": "code",
   "execution_count": 69,
   "metadata": {},
   "outputs": [
    {
     "data": {
      "text/plain": [
       "<Axes: xlabel='sentiment'>"
      ]
     },
     "execution_count": 69,
     "metadata": {},
     "output_type": "execute_result"
    },
    {
     "data": {
      "image/png": "[encoded data removed]",
      "text/plain": [
       "<Figure size 1800x600 with 1 Axes>"
      ]
     },
     "metadata": {},
     "output_type": "display_data"
    }
   ],
   "source": [
    "fig, ax = plt.subplots(figsize=(18, 6))\n",
    "sns.boxenplot(data=df, x=\"sentiment\", ax=ax)"
   ]
  },
  {
   "cell_type": "code",
   "execution_count": 70,
   "metadata": {},
   "outputs": [],
   "source": [
    "df = df.drop(\"title\", axis=1)"
   ]
  },
  {
   "cell_type": "code",
   "execution_count": 72,
   "metadata": {},
   "outputs": [],
   "source": [
    "with open(\"data/analyst_ratings_processed.pkl\", \"wb\") as f:\n",
    "    pkl.dump(df, f)"
   ]
  }
 ],
 "metadata": {
  "kernelspec": {
   "display_name": "venv",
   "language": "python",
   "name": "python3"
  },
  "language_info": {
   "codemirror_mode": {
    "name": "ipython",
    "version": 3
   },
   "file_extension": ".py",
   "mimetype": "text/x-python",
   "name": "python",
   "nbconvert_exporter": "python",
   "pygments_lexer": "ipython3",
   "version": "3.10.13"
  }
 },
 "nbformat": 4,
 "nbformat_minor": 2
}
