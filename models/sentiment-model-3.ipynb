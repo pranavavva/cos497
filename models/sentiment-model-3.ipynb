{
 "cells": [
  {
   "cell_type": "code",
   "execution_count": 1,
   "metadata": {},
   "outputs": [
    {
     "name": "stdout",
     "output_type": "stream",
     "text": [
      "mps\n"
     ]
    }
   ],
   "source": [
    "import numpy as np\n",
    "import pandas as pd\n",
    "import matplotlib.pyplot as plt\n",
    "import seaborn as sns\n",
    "import requests_cache\n",
    "import yfinance as yf\n",
    "import torch\n",
    "import torch.nn as nn\n",
    "\n",
    "%matplotlib inline\n",
    "sns.set_theme()\n",
    "device = torch.device(\"mps\")\n",
    "\n",
    "\n",
    "session = requests_cache.CachedSession(\"sentiment-model-3.cache\")\n",
    "print(device)"
   ]
  },
  {
   "cell_type": "markdown",
   "metadata": {},
   "source": [
    "## Data Preprocessing"
   ]
  },
  {
   "cell_type": "code",
   "execution_count": 2,
   "metadata": {},
   "outputs": [
    {
     "name": "stdout",
     "output_type": "stream",
     "text": [
      "[*********************100%%**********************]  503 of 503 completed"
     ]
    },
    {
     "name": "stderr",
     "output_type": "stream",
     "text": [
      "\n",
      "2 Failed downloads:\n",
      "['BF.B']: Exception('%ticker%: No price data found, symbol may be delisted (period=10y)')\n",
      "['BRK.B']: Exception('%ticker%: No data found, symbol may be delisted')\n"
     ]
    },
    {
     "name": "stdout",
     "output_type": "stream",
     "text": [
      "\n"
     ]
    }
   ],
   "source": [
    "sp500_df = yf.download(\n",
    "    pd.read_csv(\"../data/sp500-firms.csv\")[\"Symbol\"].values.tolist(),\n",
    "    period=\"10y\",\n",
    "    interval=\"1d\",\n",
    "    # session=session\n",
    ")\n",
    "sp500_df = sp500_df[\"Close\"][[\"AAPL\"]].fillna(0)\n",
    "sp500_df.index = pd.to_datetime(sp500_df.index)"
   ]
  },
  {
   "cell_type": "code",
   "execution_count": 3,
   "metadata": {},
   "outputs": [
    {
     "data": {
      "text/html": [
       "<div>\n",
       "<style scoped>\n",
       "    .dataframe tbody tr th:only-of-type {\n",
       "        vertical-align: middle;\n",
       "    }\n",
       "\n",
       "    .dataframe tbody tr th {\n",
       "        vertical-align: top;\n",
       "    }\n",
       "\n",
       "    .dataframe thead th {\n",
       "        text-align: right;\n",
       "    }\n",
       "</style>\n",
       "<table border=\"1\" class=\"dataframe\">\n",
       "  <thead>\n",
       "    <tr style=\"text-align: right;\">\n",
       "      <th></th>\n",
       "      <th>AAPL</th>\n",
       "    </tr>\n",
       "    <tr>\n",
       "      <th>Date</th>\n",
       "      <th></th>\n",
       "    </tr>\n",
       "  </thead>\n",
       "  <tbody>\n",
       "    <tr>\n",
       "      <th>2013-11-29</th>\n",
       "      <td>19.859644</td>\n",
       "    </tr>\n",
       "    <tr>\n",
       "      <th>2013-12-02</th>\n",
       "      <td>19.686787</td>\n",
       "    </tr>\n",
       "    <tr>\n",
       "      <th>2013-12-03</th>\n",
       "      <td>20.225714</td>\n",
       "    </tr>\n",
       "    <tr>\n",
       "      <th>2013-12-04</th>\n",
       "      <td>20.178572</td>\n",
       "    </tr>\n",
       "    <tr>\n",
       "      <th>2013-12-05</th>\n",
       "      <td>20.282143</td>\n",
       "    </tr>\n",
       "  </tbody>\n",
       "</table>\n",
       "</div>"
      ],
      "text/plain": [
       "                 AAPL\n",
       "Date                 \n",
       "2013-11-29  19.859644\n",
       "2013-12-02  19.686787\n",
       "2013-12-03  20.225714\n",
       "2013-12-04  20.178572\n",
       "2013-12-05  20.282143"
      ]
     },
     "execution_count": 3,
     "metadata": {},
     "output_type": "execute_result"
    }
   ],
   "source": [
    "sp500_df.head()"
   ]
  },
  {
   "cell_type": "code",
   "execution_count": 4,
   "metadata": {},
   "outputs": [],
   "source": [
    "import pickle as pkl\n",
    "\n",
    "with open(\"../data/post-firm-sentiment.pkl\", \"rb\") as f:\n",
    "    sentiment_df = pkl.load(f)\n",
    "    sentiment_df.set_index(\"created\", inplace=True)\n",
    "    sentiment_df.index = sentiment_df.index.values.astype(\"datetime64[D]\")\n",
    "    sentiment_df.index.name = \"created\""
   ]
  },
  {
   "cell_type": "code",
   "execution_count": 5,
   "metadata": {},
   "outputs": [],
   "source": [
    "sentiment_df = sentiment_df[[\"selftext\", \"sentiment_score\", \"is_AAPL\"]]\n",
    "sentiment_df = sentiment_df[(sentiment_df[\"is_AAPL\"] == True)].drop([\"is_AAPL\"], axis=1)"
   ]
  },
  {
   "cell_type": "code",
   "execution_count": 6,
   "metadata": {},
   "outputs": [
    {
     "data": {
      "text/html": [
       "<div>\n",
       "<style scoped>\n",
       "    .dataframe tbody tr th:only-of-type {\n",
       "        vertical-align: middle;\n",
       "    }\n",
       "\n",
       "    .dataframe tbody tr th {\n",
       "        vertical-align: top;\n",
       "    }\n",
       "\n",
       "    .dataframe thead th {\n",
       "        text-align: right;\n",
       "    }\n",
       "</style>\n",
       "<table border=\"1\" class=\"dataframe\">\n",
       "  <thead>\n",
       "    <tr style=\"text-align: right;\">\n",
       "      <th></th>\n",
       "      <th>selftext</th>\n",
       "      <th>sentiment_score</th>\n",
       "    </tr>\n",
       "    <tr>\n",
       "      <th>created</th>\n",
       "      <th></th>\n",
       "      <th></th>\n",
       "    </tr>\n",
       "  </thead>\n",
       "  <tbody>\n",
       "    <tr>\n",
       "      <th>2021-02-08</th>\n",
       "      <td>The next big thing. AAPL is the perfect target...</td>\n",
       "      <td>0.7639</td>\n",
       "    </tr>\n",
       "    <tr>\n",
       "      <th>2021-02-09</th>\n",
       "      <td>Just wondering where everyone is at with regar...</td>\n",
       "      <td>0.8999</td>\n",
       "    </tr>\n",
       "    <tr>\n",
       "      <th>2021-02-09</th>\n",
       "      <td>I don’t know if I have a huge imagination, but...</td>\n",
       "      <td>-0.8527</td>\n",
       "    </tr>\n",
       "    <tr>\n",
       "      <th>2021-02-11</th>\n",
       "      <td>Still crunching the numbers, but it appears Me...</td>\n",
       "      <td>0.9823</td>\n",
       "    </tr>\n",
       "    <tr>\n",
       "      <th>2021-02-12</th>\n",
       "      <td>It also didn't give him the option to buy AMC ...</td>\n",
       "      <td>0.8814</td>\n",
       "    </tr>\n",
       "    <tr>\n",
       "      <th>...</th>\n",
       "      <td>...</td>\n",
       "      <td>...</td>\n",
       "    </tr>\n",
       "    <tr>\n",
       "      <th>2021-11-23</th>\n",
       "      <td>I have a LT position on some AAPL since severa...</td>\n",
       "      <td>-0.5050</td>\n",
       "    </tr>\n",
       "    <tr>\n",
       "      <th>2021-11-27</th>\n",
       "      <td>Hi everyone,\\n\\nI'm a college student. I am ha...</td>\n",
       "      <td>0.7650</td>\n",
       "    </tr>\n",
       "    <tr>\n",
       "      <th>2021-12-16</th>\n",
       "      <td>Say you buy AAPL a day before a June 5 ex-divi...</td>\n",
       "      <td>-0.2406</td>\n",
       "    </tr>\n",
       "    <tr>\n",
       "      <th>2021-12-27</th>\n",
       "      <td>I am a 22 year old first year medical student ...</td>\n",
       "      <td>0.9371</td>\n",
       "    </tr>\n",
       "    <tr>\n",
       "      <th>2021-12-30</th>\n",
       "      <td>Hi guys, \\n\\nI have a $12,000 long term capita...</td>\n",
       "      <td>0.7303</td>\n",
       "    </tr>\n",
       "  </tbody>\n",
       "</table>\n",
       "<p>1017 rows × 2 columns</p>\n",
       "</div>"
      ],
      "text/plain": [
       "                                                     selftext  sentiment_score\n",
       "created                                                                       \n",
       "2021-02-08  The next big thing. AAPL is the perfect target...           0.7639\n",
       "2021-02-09  Just wondering where everyone is at with regar...           0.8999\n",
       "2021-02-09  I don’t know if I have a huge imagination, but...          -0.8527\n",
       "2021-02-11  Still crunching the numbers, but it appears Me...           0.9823\n",
       "2021-02-12  It also didn't give him the option to buy AMC ...           0.8814\n",
       "...                                                       ...              ...\n",
       "2021-11-23  I have a LT position on some AAPL since severa...          -0.5050\n",
       "2021-11-27  Hi everyone,\\n\\nI'm a college student. I am ha...           0.7650\n",
       "2021-12-16  Say you buy AAPL a day before a June 5 ex-divi...          -0.2406\n",
       "2021-12-27  I am a 22 year old first year medical student ...           0.9371\n",
       "2021-12-30  Hi guys, \\n\\nI have a $12,000 long term capita...           0.7303\n",
       "\n",
       "[1017 rows x 2 columns]"
      ]
     },
     "execution_count": 6,
     "metadata": {},
     "output_type": "execute_result"
    }
   ],
   "source": [
    "sentiment_df"
   ]
  },
  {
   "cell_type": "code",
   "execution_count": null,
   "metadata": {},
   "outputs": [],
   "source": [
    "# plt.figure(figsize=(10, 7))\n",
    "# sentiment_df.drop(columns=[\"created\", \"selftext\", \"sentiment_score\"]).sum(axis=0).sort_values(ascending=False).head(25).plot(kind=\"bar\")\n",
    "# plt.title(\"Top 25 most mentioned firms\")\n",
    "# plt.xlabel(\"Firm\")\n",
    "# plt.ylabel(\"Number of mentions\")"
   ]
  },
  {
   "cell_type": "code",
   "execution_count": null,
   "metadata": {},
   "outputs": [],
   "source": [
    "# plt.figure(figsize=(12, 7))\n",
    "# sentiment_df[\"sentiment_score\"].plot(kind=\"hist\", bins=20)\n",
    "# plt.title(\"Distribution of Sentiment Scores\")\n",
    "# plt.xlabel(\"Sentiment Score\")\n",
    "# plt.ylabel(\"Frequency\")"
   ]
  },
  {
   "cell_type": "code",
   "execution_count": 7,
   "metadata": {},
   "outputs": [],
   "source": [
    "sp500 = sp500_df.values"
   ]
  },
  {
   "cell_type": "code",
   "execution_count": null,
   "metadata": {},
   "outputs": [],
   "source": [
    "# from sklearn.preprocessing import MinMaxScaler\n",
    "# scaler = MinMaxScaler()\n",
    "# sp500 = scaler.fit_transform(sp500)"
   ]
  },
  {
   "cell_type": "markdown",
   "metadata": {},
   "source": [
    "Axis 0 is temporal.\n",
    "\n",
    "Axis 1 is individual companies."
   ]
  },
  {
   "cell_type": "code",
   "execution_count": 8,
   "metadata": {},
   "outputs": [
    {
     "data": {
      "text/plain": [
       "array(['2013-11-29T00:00:00.000000000', '2013-12-02T00:00:00.000000000',\n",
       "       '2013-12-03T00:00:00.000000000', ...,\n",
       "       '2023-11-24T00:00:00.000000000', '2023-11-27T00:00:00.000000000',\n",
       "       '2023-11-28T00:00:00.000000000'], dtype='datetime64[ns]')"
      ]
     },
     "execution_count": 8,
     "metadata": {},
     "output_type": "execute_result"
    }
   ],
   "source": [
    "sp500_df.index.values"
   ]
  },
  {
   "cell_type": "code",
   "execution_count": 9,
   "metadata": {},
   "outputs": [
    {
     "name": "stdout",
     "output_type": "stream",
     "text": [
      "X_train shape: (1968, 30, 1)\n",
      "X_train_dates shape: (1968, 30, 1)\n",
      "y_train shape: (1968, 15)\n",
      "y_train_dates shape: (1968, 15)\n",
      "train_tickers shape: (1968,)\n",
      "X_test shape: (460, 30, 1)\n",
      "X_test_dates shape: (460, 30, 1)\n",
      "y_test shape: (460, 15)\n",
      "y_test_dates shape: (460, 15)\n",
      "test_tickers shape: (460,)\n"
     ]
    }
   ],
   "source": [
    "def split_data(raw_data_df: pd.DataFrame,\n",
    "               train_size: float = 0.8,\n",
    "               lookback_period: int = 30,\n",
    "               lookforward_period: int = 30):\n",
    "    \"\"\"\n",
    "    Takes a 2-array of data with axis 0 being temporal and axis 1 being companies and splits it into train and test sets.\n",
    "    \n",
    "    The first train_size percent of each timeseries is used for training and the rest is used for testing. Cross-validation folds\n",
    "    are created using the lookback_period parameter in a sliding window paradigm. The target of each fold is the next value in the\n",
    "    timeseries.\"\"\"\n",
    "\n",
    "    raw_data = raw_data_df.values\n",
    "    dates = raw_data_df.index.values\n",
    "    tickers = raw_data_df.columns.values\n",
    "\n",
    "    train_size = int(raw_data.shape[0] * train_size)\n",
    "    train_data = raw_data[:train_size, :]\n",
    "    test_data = raw_data[train_size:, :]\n",
    "    train_dates = dates[:train_size]\n",
    "    test_dates = dates[train_size:]\n",
    "\n",
    "    X_train = []\n",
    "    X_train_dates = []\n",
    "    y_train = []\n",
    "    y_train_dates = []\n",
    "    train_tickers = []\n",
    "    X_test = []\n",
    "    X_test_dates = []\n",
    "    y_test = []\n",
    "    y_test_dates = []\n",
    "    test_tickers = []\n",
    "\n",
    "    for i in range(lookback_period, train_data.shape[0] - lookforward_period + 1):\n",
    "        X_train.append(train_data[i-lookback_period:i, :])\n",
    "        X_train_dates.append(np.tile(train_dates[i-lookback_period:i, np.newaxis], (1, train_data.shape[1])))\n",
    "        y_train.append(train_data[i:i+lookforward_period, :])\n",
    "        y_train_dates.append(np.tile(train_dates[i:i+lookforward_period, np.newaxis], (1, train_data.shape[1])))\n",
    "        train_tickers.append(tickers)\n",
    "\n",
    "    for i in range(lookback_period, test_data.shape[0] - lookforward_period + 1):\n",
    "        X_test.append(test_data[i-lookback_period:i, :])\n",
    "        X_test_dates.append(np.tile(test_dates[i-lookback_period:i, np.newaxis], (1, test_data.shape[1])))\n",
    "        y_test.append(test_data[i:i+lookforward_period, :])\n",
    "        y_test_dates.append(np.tile(test_dates[i:i+lookforward_period, np.newaxis], (1, test_data.shape[1])))\n",
    "        test_tickers.append(tickers)\n",
    "\n",
    "    \n",
    "    return (\n",
    "        np.array(X_train).transpose(2, 0, 1).reshape(-1, lookback_period, 1),\n",
    "        np.array(X_train_dates).transpose(2, 0, 1).reshape(-1, lookback_period, 1),\n",
    "        np.array(y_train).transpose(2, 0, 1).reshape(-1, lookforward_period),\n",
    "        np.array(y_train_dates).transpose(2, 0, 1).reshape(-1, lookforward_period),\n",
    "        np.array(train_tickers)[:, np.newaxis, :].transpose(2, 0, 1).reshape(-1),\n",
    "        np.array(X_test).transpose(2, 0, 1).reshape(-1, lookback_period, 1),\n",
    "        np.array(X_test_dates).transpose(2, 0, 1).reshape(-1, lookback_period, 1),\n",
    "        np.array(y_test).transpose(2, 0, 1).reshape(-1, lookforward_period),\n",
    "        np.array(y_test_dates).transpose(2, 0, 1).reshape(-1, lookforward_period),\n",
    "        np.array(test_tickers)[:, np.newaxis, :].transpose(2, 0, 1).reshape(-1),\n",
    "    )\n",
    "\n",
    "train_size = 0.80\n",
    "lookback_period = 30\n",
    "lookforward_period = 15\n",
    "(X_train, X_train_dates, y_train, y_train_dates,\n",
    "train_tickers, X_test, X_test_dates, y_test,\n",
    "y_test_dates, test_tickers) = split_data(sp500_df,\n",
    "                                              train_size=train_size,\n",
    "                                              lookback_period=lookback_period,\n",
    "                                              lookforward_period=lookforward_period)\n",
    "\n",
    "print(f\"X_train shape: {X_train.shape}\")\n",
    "print(f\"X_train_dates shape: {X_train_dates.shape}\")\n",
    "print(f\"y_train shape: {y_train.shape}\")\n",
    "print(f\"y_train_dates shape: {y_train_dates.shape}\")\n",
    "print(f\"train_tickers shape: {train_tickers.shape}\")\n",
    "print(f\"X_test shape: {X_test.shape}\")\n",
    "print(f\"X_test_dates shape: {X_test_dates.shape}\")\n",
    "print(f\"y_test shape: {y_test.shape}\")\n",
    "print(f\"y_test_dates shape: {y_test_dates.shape}\")\n",
    "print(f\"test_tickers shape: {test_tickers.shape}\")"
   ]
  },
  {
   "cell_type": "code",
   "execution_count": null,
   "metadata": {},
   "outputs": [],
   "source": [
    "# remove a sample if its row (axis 1) contains a 0.0\n",
    "train_mask = np.all(X_train != 0.0, axis=(1, 2))\n",
    "test_mask = np.all(X_test != 0.0, axis=(1, 2))\n",
    "\n",
    "\n",
    "X_train = X_train[train_mask, :, :]\n",
    "X_train_dates = X_train_dates[train_mask, :, :]\n",
    "y_train = y_train[train_mask, :]\n",
    "y_train_dates = y_train_dates[train_mask, :]\n",
    "train_tickers = train_tickers[train_mask]\n",
    "X_test = X_test[test_mask, :, :]\n",
    "X_test_dates = X_test_dates[test_mask, :, :]\n",
    "y_test = y_test[test_mask, :]\n",
    "y_test_dates = y_test_dates[test_mask, :]\n",
    "test_tickers = test_tickers[test_mask]"
   ]
  },
  {
   "cell_type": "markdown",
   "metadata": {},
   "source": [
    "Now:\n",
    "\n",
    "X_train, X_test shape: (Number of windows, window size)\n",
    "\n",
    "y_train, y_test shape: (Next value for each window)"
   ]
  },
  {
   "cell_type": "code",
   "execution_count": null,
   "metadata": {},
   "outputs": [],
   "source": [
    "print(f\"X_train shape: {X_train.shape}\")\n",
    "print(f\"X_train_dates shape: {X_train_dates.shape}\")\n",
    "print(f\"y_train shape: {y_train.shape}\")\n",
    "print(f\"y_train_dates shape: {y_train_dates.shape}\")\n",
    "print(f\"train_tickers shape: {train_tickers.shape}\")\n",
    "print(f\"X_test shape: {X_test.shape}\")\n",
    "print(f\"X_test_dates shape: {X_test_dates.shape}\")\n",
    "print(f\"y_test shape: {y_test.shape}\")\n",
    "print(f\"y_test_dates shape: {y_test_dates.shape}\")\n",
    "print(f\"test_tickers shape: {test_tickers.shape}\")"
   ]
  },
  {
   "cell_type": "code",
   "execution_count": null,
   "metadata": {},
   "outputs": [],
   "source": [
    "sentiment_df"
   ]
  },
  {
   "cell_type": "code",
   "execution_count": null,
   "metadata": {},
   "outputs": [],
   "source": [
    "from tqdm import tqdm, trange\n",
    "\n",
    "X_train_sentiment = np.zeros(X_train.shape[0])\n",
    "X_test_sentiment = np.zeros(X_test.shape[0])\n",
    "\n",
    "first_date = sentiment_df.index.min()\n",
    "last_date = sentiment_df.index.max()\n",
    "\n",
    "for i in trange(X_train.shape[0]):\n",
    "    if X_train_dates[i, -1, 0] < first_date or X_train_dates[i, 0, 0] > last_date:\n",
    "        X_train_sentiment[i] = 0.0\n",
    "    else:\n",
    "        X_train_sentiment[i] = sentiment_df.loc[sentiment_df.index.isin(X_train_dates[i, :, 0])][\"sentiment_score\"].values.mean()\n",
    "\n",
    "for i in trange(X_test.shape[0]):\n",
    "    if X_test_dates[i, -1, 0] < first_date or X_test_dates[i, 0, 0] > last_date:\n",
    "        X_test_sentiment[i] = 0.0\n",
    "    else:\n",
    "        X_test_sentiment[i] = sentiment_df.loc[sentiment_df.index.isin(X_test_dates[i, :, 0])][\"sentiment_score\"].values.mean()"
   ]
  },
  {
   "cell_type": "code",
   "execution_count": null,
   "metadata": {},
   "outputs": [],
   "source": [
    "# with open(\"../data/sentiment-scores-split.pkl\", \"wb\") as f:\n",
    "#     pkl.dump((X_train_sentiment, X_test_sentiment), f)"
   ]
  },
  {
   "cell_type": "code",
   "execution_count": null,
   "metadata": {},
   "outputs": [],
   "source": [
    "# with open(\"../data/sentiment-scores-split.pkl\", \"rb\") as f:\n",
    "#     X_train_sentiment, X_test_sentiment = pkl.load(f)"
   ]
  },
  {
   "cell_type": "code",
   "execution_count": null,
   "metadata": {},
   "outputs": [],
   "source": [
    "# Reshape and tile the sentiment scores to match the shape of the stock data\n",
    "# This way we can concat them together and feed them to the model\n",
    "\n",
    "X_train_sentiment = X_train_sentiment.reshape(-1, 1)\n",
    "X_test_sentiment = X_test_sentiment.reshape(-1, 1)\n",
    "\n",
    "print(f\"X_train_sentiment shape: {X_train_sentiment.shape}\")\n",
    "print(f\"X_test_sentiment shape: {X_test_sentiment.shape}\")"
   ]
  },
  {
   "cell_type": "code",
   "execution_count": null,
   "metadata": {},
   "outputs": [],
   "source": [
    "SUBSAMPLE_DATA = False\n",
    "SUBSAMPLE_PERCENT = 0.1\n",
    "\n",
    "if SUBSAMPLE_DATA:\n",
    "    # Select a random subsample of the data\n",
    "    subsample_train = np.random.choice(X_train.shape[0], int(X_train.shape[0] * SUBSAMPLE_PERCENT))\n",
    "    subsample_test = np.random.choice(X_test.shape[0], int(X_test.shape[0] * SUBSAMPLE_PERCENT))\n",
    "\n",
    "    X_train = X_train[subsample_train, :, :]\n",
    "    y_train = y_train[subsample_train, :]\n",
    "    X_test = X_test[subsample_test, :, :]\n",
    "    y_test = y_test[subsample_test, :]\n",
    "\n",
    "# convert train/test arrays to torch.Tensor\n",
    "X_train = torch.from_numpy(X_train).float().to(device)\n",
    "X_train_sentiment = torch.from_numpy(X_train_sentiment).float().to(device)\n",
    "y_train = torch.from_numpy(y_train).float().to(device)\n",
    "X_test = torch.from_numpy(X_test).float().to(device)\n",
    "X_test_sentiment = torch.from_numpy(X_test_sentiment).float().to(device)\n",
    "y_test = torch.from_numpy(y_test).float().to(device)\n",
    "\n",
    "print(f\"Type of X_train: {type(X_train)}\")\n",
    "print(f\"Type of X_train_sentiment: {type(X_train_sentiment)}\")\n",
    "print(f\"Type of y_train: {type(y_train)}\")\n",
    "print(f\"Type of X_test: {type(X_test)}\")\n",
    "print(f\"Type of X_test_sentiment: {type(X_test_sentiment)}\")\n",
    "print(f\"Type of y_test: {type(y_test)}\")\n",
    "\n",
    "print(f\"Shape of X_train: {X_train.shape}\")\n",
    "print(f\"Shape of X_train_sentiment: {X_train_sentiment.shape}\")\n",
    "print(f\"Shape of y_train: {y_train.shape}\")\n",
    "print(f\"Shape of X_test: {X_test.shape}\")\n",
    "print(f\"Shape of X_test_sentiment: {X_test_sentiment.shape}\")\n",
    "print(f\"Shape of y_test: {y_test.shape}\")"
   ]
  },
  {
   "cell_type": "markdown",
   "metadata": {},
   "source": [
    "## Model Training"
   ]
  },
  {
   "cell_type": "code",
   "execution_count": 245,
   "metadata": {},
   "outputs": [],
   "source": [
    "input_size = 1 # num channels in input\n",
    "num_layers = 4 # num of hidden layers\n",
    "hidden_size = 128 # num of hidden nodes in each layer\n",
    "output_size = lookforward_period # timesteps to predict"
   ]
  },
  {
   "cell_type": "code",
   "execution_count": 246,
   "metadata": {},
   "outputs": [],
   "source": [
    "class LSTMModel(nn.Module):\n",
    "    def __init__(self, input_size: int, hidden_size: int, num_layers: int, output_size: int):\n",
    "        super(LSTMModel, self).__init__()\n",
    "        self.hidden_size = hidden_size\n",
    "        self.num_layers = num_layers\n",
    "\n",
    "        self.lstm = nn.LSTM(input_size, hidden_size, num_layers, batch_first=True)\n",
    "        self.sentiment_fc = nn.Linear(1, hidden_size)\n",
    "        self.combine_linear = nn.Linear(hidden_size * 2, 256)\n",
    "\n",
    "        self.fc1 = nn.Linear(256, 128)\n",
    "        self.fc2 = nn.Linear(128, 64)\n",
    "        self.fc3 = nn.Linear(64, output_size)\n",
    "\n",
    "    \n",
    "    def forward(self, time_series: torch.Tensor, sentiment: torch.Tensor):\n",
    "        h0 = torch.zeros(self.num_layers, time_series.size(0), self.hidden_size).to(device)\n",
    "        c0 = torch.zeros(self.num_layers, time_series.size(0), self.hidden_size).to(device)\n",
    "\n",
    "        lstm_out, _ = self.lstm(time_series, (h0, c0))\n",
    "        sentiment_out = self.sentiment_fc(sentiment)\n",
    "        combined = torch.cat((lstm_out[:, -1, :], sentiment_out), dim=1)\n",
    "        out = self.combine_linear(combined)\n",
    "        out = torch.relu(out)\n",
    "        out = self.fc1(out)\n",
    "        out = torch.relu(out)\n",
    "        out = self.fc2(out)\n",
    "        out = torch.relu(out)\n",
    "        out = self.fc3(out)\n",
    "\n",
    "        return out"
   ]
  },
  {
   "cell_type": "code",
   "execution_count": 247,
   "metadata": {},
   "outputs": [
    {
     "name": "stdout",
     "output_type": "stream",
     "text": [
      "LSTMModel(\n",
      "  (lstm): LSTM(1, 128, num_layers=4, batch_first=True)\n",
      "  (sentiment_fc): Linear(in_features=1, out_features=128, bias=True)\n",
      "  (combine_linear): Linear(in_features=256, out_features=256, bias=True)\n",
      "  (fc1): Linear(in_features=256, out_features=128, bias=True)\n",
      "  (fc2): Linear(in_features=128, out_features=64, bias=True)\n",
      "  (fc3): Linear(in_features=64, out_features=15, bias=True)\n",
      ")\n"
     ]
    }
   ],
   "source": [
    "from torch.utils.data import TensorDataset, DataLoader\n",
    "\n",
    "model = LSTMModel(input_size, hidden_size, num_layers, output_size).to(device)\n",
    "loss_fn = nn.MSELoss()\n",
    "optimizer = torch.optim.Adam(model.parameters(), lr=1e-3)\n",
    "\n",
    "print(model)\n",
    "\n",
    "train_data = TensorDataset(X_train, X_train_sentiment, y_train)\n",
    "test_data = TensorDataset(X_test, X_test_sentiment, y_test)\n",
    "\n",
    "# now that input windows are no longer grouped by company, we can shuffle the data\n",
    "train_loader = DataLoader(train_data, batch_size=16, shuffle=False)\n",
    "test_loader = DataLoader(test_data, batch_size=16, shuffle=False)"
   ]
  },
  {
   "cell_type": "code",
   "execution_count": 249,
   "metadata": {},
   "outputs": [
    {
     "data": {
      "application/vnd.jupyter.widget-view+json": {
       "model_id": "12a9e2dc58a94ba4951ce01a763a2372",
       "version_major": 2,
       "version_minor": 0
      },
      "text/plain": [
       "Epochs:   0%|          | 0/100 [00:00<?, ?it/s, test_loss=0, train_loss=0]"
      ]
     },
     "metadata": {},
     "output_type": "display_data"
    },
    {
     "data": {
      "application/vnd.jupyter.widget-view+json": {
       "model_id": "1727d4435cd54d409fa89fdc672427cb",
       "version_major": 2,
       "version_minor": 0
      },
      "text/plain": [
       "Training:   0%|          | 0/123 [00:00<?, ?it/s]"
      ]
     },
     "metadata": {},
     "output_type": "display_data"
    },
    {
     "data": {
      "application/vnd.jupyter.widget-view+json": {
       "model_id": "6dce21cf9c384629a8a028845a3a4bca",
       "version_major": 2,
       "version_minor": 0
      },
      "text/plain": [
       "Testing:   0%|          | 0/29 [00:00<?, ?it/s]"
      ]
     },
     "metadata": {},
     "output_type": "display_data"
    },
    {
     "ename": "KeyboardInterrupt",
     "evalue": "",
     "output_type": "error",
     "traceback": [
      "\u001b[0;31m---------------------------------------------------------------------------\u001b[0m",
      "\u001b[0;31mKeyboardInterrupt\u001b[0m                         Traceback (most recent call last)",
      "\u001b[1;32m/Users/pranav/Projects/cos497/models/sentiment-model-3.ipynb Cell 28\u001b[0m line \u001b[0;36m3\n\u001b[1;32m     <a href='vscode-notebook-cell:/Users/pranav/Projects/cos497/models/sentiment-model-3.ipynb#X36sZmlsZQ%3D%3D?line=28'>29</a>\u001b[0m \u001b[39m# backward pass\u001b[39;00m\n\u001b[1;32m     <a href='vscode-notebook-cell:/Users/pranav/Projects/cos497/models/sentiment-model-3.ipynb#X36sZmlsZQ%3D%3D?line=29'>30</a>\u001b[0m optimizer\u001b[39m.\u001b[39mzero_grad()\n\u001b[0;32m---> <a href='vscode-notebook-cell:/Users/pranav/Projects/cos497/models/sentiment-model-3.ipynb#X36sZmlsZQ%3D%3D?line=30'>31</a>\u001b[0m loss\u001b[39m.\u001b[39;49mbackward()\n\u001b[1;32m     <a href='vscode-notebook-cell:/Users/pranav/Projects/cos497/models/sentiment-model-3.ipynb#X36sZmlsZQ%3D%3D?line=31'>32</a>\u001b[0m optimizer\u001b[39m.\u001b[39mstep()\n\u001b[1;32m     <a href='vscode-notebook-cell:/Users/pranav/Projects/cos497/models/sentiment-model-3.ipynb#X36sZmlsZQ%3D%3D?line=33'>34</a>\u001b[0m epoch_loss \u001b[39m+\u001b[39m\u001b[39m=\u001b[39m loss\u001b[39m.\u001b[39mitem()\n",
      "File \u001b[0;32m~/Projects/cos497/.venv/lib/python3.10/site-packages/torch/_tensor.py:492\u001b[0m, in \u001b[0;36mTensor.backward\u001b[0;34m(self, gradient, retain_graph, create_graph, inputs)\u001b[0m\n\u001b[1;32m    482\u001b[0m \u001b[39mif\u001b[39;00m has_torch_function_unary(\u001b[39mself\u001b[39m):\n\u001b[1;32m    483\u001b[0m     \u001b[39mreturn\u001b[39;00m handle_torch_function(\n\u001b[1;32m    484\u001b[0m         Tensor\u001b[39m.\u001b[39mbackward,\n\u001b[1;32m    485\u001b[0m         (\u001b[39mself\u001b[39m,),\n\u001b[0;32m   (...)\u001b[0m\n\u001b[1;32m    490\u001b[0m         inputs\u001b[39m=\u001b[39minputs,\n\u001b[1;32m    491\u001b[0m     )\n\u001b[0;32m--> 492\u001b[0m torch\u001b[39m.\u001b[39;49mautograd\u001b[39m.\u001b[39;49mbackward(\n\u001b[1;32m    493\u001b[0m     \u001b[39mself\u001b[39;49m, gradient, retain_graph, create_graph, inputs\u001b[39m=\u001b[39;49minputs\n\u001b[1;32m    494\u001b[0m )\n",
      "File \u001b[0;32m~/Projects/cos497/.venv/lib/python3.10/site-packages/torch/autograd/__init__.py:251\u001b[0m, in \u001b[0;36mbackward\u001b[0;34m(tensors, grad_tensors, retain_graph, create_graph, grad_variables, inputs)\u001b[0m\n\u001b[1;32m    246\u001b[0m     retain_graph \u001b[39m=\u001b[39m create_graph\n\u001b[1;32m    248\u001b[0m \u001b[39m# The reason we repeat the same comment below is that\u001b[39;00m\n\u001b[1;32m    249\u001b[0m \u001b[39m# some Python versions print out the first line of a multi-line function\u001b[39;00m\n\u001b[1;32m    250\u001b[0m \u001b[39m# calls in the traceback and some print out the last line\u001b[39;00m\n\u001b[0;32m--> 251\u001b[0m Variable\u001b[39m.\u001b[39;49m_execution_engine\u001b[39m.\u001b[39;49mrun_backward(  \u001b[39m# Calls into the C++ engine to run the backward pass\u001b[39;49;00m\n\u001b[1;32m    252\u001b[0m     tensors,\n\u001b[1;32m    253\u001b[0m     grad_tensors_,\n\u001b[1;32m    254\u001b[0m     retain_graph,\n\u001b[1;32m    255\u001b[0m     create_graph,\n\u001b[1;32m    256\u001b[0m     inputs,\n\u001b[1;32m    257\u001b[0m     allow_unreachable\u001b[39m=\u001b[39;49m\u001b[39mTrue\u001b[39;49;00m,\n\u001b[1;32m    258\u001b[0m     accumulate_grad\u001b[39m=\u001b[39;49m\u001b[39mTrue\u001b[39;49;00m,\n\u001b[1;32m    259\u001b[0m )\n",
      "\u001b[0;31mKeyboardInterrupt\u001b[0m: "
     ]
    }
   ],
   "source": [
    "from tqdm.notebook import tqdm, trange\n",
    "\n",
    "num_epochs = 100\n",
    "train_hist = []\n",
    "test_hist = []\n",
    "\n",
    "progress_bar = trange(num_epochs, desc=\"Epochs\", postfix={\"train_loss\": 0.0, \"test_loss\": 0.0})\n",
    "train_bar = tqdm(total=len(train_loader), desc=\"Training\", leave=True)\n",
    "test_bar = tqdm(total=len(test_loader), desc=\"Testing\", leave=True)\n",
    "\n",
    "for epoch in progress_bar:\n",
    "    epoch_loss = 0.0\n",
    "\n",
    "    # reset the progress bars\n",
    "    train_bar.reset()\n",
    "    test_bar.reset()\n",
    "\n",
    "    # training loop\n",
    "    model.train()\n",
    "    for batch_X, sentiment_X, batch_y in train_loader:\n",
    "        # tick the progress bar\n",
    "        train_bar.update()\n",
    "\n",
    "        # forward pass\n",
    "        batch_X, sentiment_X, batch_y = batch_X.to(device), sentiment_X.to(device), batch_y.to(device)\n",
    "        y_pred = model(batch_X, sentiment_X)\n",
    "        loss = loss_fn(y_pred, batch_y)\n",
    "\n",
    "        # backward pass\n",
    "        optimizer.zero_grad()\n",
    "        loss.backward()\n",
    "        optimizer.step()\n",
    "\n",
    "        epoch_loss += loss.item()\n",
    "    \n",
    "    train_bar.refresh()\n",
    "    train_hist.append(epoch_loss / len(train_loader))\n",
    "\n",
    "    # testing loop\n",
    "    model.eval()\n",
    "    with torch.no_grad():\n",
    "        epoch_loss = 0.0\n",
    "\n",
    "        for batch_X, sentiment_X, batch_y in test_loader:\n",
    "            # tick the progress bar\n",
    "            test_bar.update()\n",
    "\n",
    "            batch_X, sentiment_X, batch_y = batch_X.to(device), sentiment_X.to(device), batch_y.to(device)\n",
    "            y_pred = model(batch_X, sentiment_X)\n",
    "            loss = loss_fn(y_pred, batch_y)\n",
    "\n",
    "            epoch_loss += loss.item()\n",
    "        \n",
    "        test_bar.refresh()\n",
    "        test_hist.append(epoch_loss / len(test_loader))\n",
    "\n",
    "    \n",
    "    # print stats\n",
    "    # print(f\"Epoch {epoch+1}/{num_epochs} | Train Loss: {train_hist[-1]} | Test Loss: {test_hist[-1]}\")\n",
    "\n",
    "    # update progress bar\n",
    "    progress_bar.postfix = {\"train_loss\": float(f\"{train_hist[-1]:.6f}\"), \"test_loss\": float(f\"{test_hist[-1]:.6f}\")}\n",
    "\n",
    "# close progress bars\n",
    "train_bar.close()\n",
    "test_bar.close()"
   ]
  },
  {
   "cell_type": "code",
   "execution_count": 250,
   "metadata": {},
   "outputs": [
    {
     "data": {
      "text/plain": [
       "<matplotlib.legend.Legend at 0x435d49360>"
      ]
     },
     "execution_count": 250,
     "metadata": {},
     "output_type": "execute_result"
    },
    {
     "data": {
      "image/png": "[encoded data removed]",
      "text/plain": [
       "<Figure size 1200x800 with 1 Axes>"
      ]
     },
     "metadata": {},
     "output_type": "display_data"
    }
   ],
   "source": [
    "# plot train and test loss\n",
    "train_hist = np.array(train_hist)\n",
    "test_hist = np.array(test_hist)\n",
    "\n",
    "train_rmse = np.sqrt(train_hist)\n",
    "test_rmse = np.sqrt(test_hist)\n",
    "\n",
    "fig, ax = plt.subplots(figsize=(12, 8))\n",
    "\n",
    "ax.plot(train_rmse, label=\"Train Loss\")\n",
    "ax.plot(test_rmse, label=\"Test Loss\")\n",
    "ax.set_title(\"Train and Test Loss (RMSE)\")\n",
    "ax.set_xlabel(\"Epoch\")\n",
    "ax.set_ylabel(\"Loss\")\n",
    "ax.legend()"
   ]
  },
  {
   "cell_type": "code",
   "execution_count": null,
   "metadata": {},
   "outputs": [],
   "source": [
    "# Open-loop forecasting\n",
    "\n",
    "num_forecast_steps = 30\n",
    "sequence = 0 # which sequence to use for forecasting\n",
    "\n",
    "test_sequence = sp500[:360, sequence] # test data\n",
    "historical_data = test_sequence[:lookback_period]\n",
    "forecasted_data = []\n",
    "\n",
    "model.eval()\n",
    "with torch.no_grad():\n",
    "    historical_data_tensor = torch.from_numpy(historical_data).view(1, -1, 1).float().to(device)\n",
    "    forecasted_data = model(historical_data_tensor).cpu().numpy()[0]\n",
    "\n",
    "\n",
    "fig, ax = plt.subplots(figsize=(12, 8))\n",
    "ax.plot(test_sequence[:lookback_period], label=\"Historical Data\")\n",
    "ax.plot(np.arange(lookback_period, lookback_period + lookforward_period), test_sequence[lookback_period:lookback_period + lookforward_period], label=\"Actual Data\")\n",
    "ax.plot(np.arange(lookback_period, lookback_period + len(forecasted_data)), np.array(forecasted_data), label=\"Forecasted Data\")\n",
    "ax.set_title(\"Open-loop Forecasting (MinMaxScaler)\")\n",
    "ax.set_xlabel(\"Day\")\n",
    "ax.set_ylabel(\"Normalized Price\")\n",
    "ax.legend()"
   ]
  },
  {
   "cell_type": "code",
   "execution_count": null,
   "metadata": {},
   "outputs": [],
   "source": []
  },
  {
   "cell_type": "code",
   "execution_count": null,
   "metadata": {},
   "outputs": [],
   "source": []
  }
 ],
 "metadata": {
  "kernelspec": {
   "display_name": "Python 3 (ipykernel)",
   "language": "python",
   "name": "python3"
  },
  "language_info": {
   "codemirror_mode": {
    "name": "ipython",
    "version": 3
   },
   "file_extension": ".py",
   "mimetype": "text/x-python",
   "name": "python",
   "nbconvert_exporter": "python",
   "pygments_lexer": "ipython3",
   "version": "3.10.13"
  }
 },
 "nbformat": 4,
 "nbformat_minor": 2
}
